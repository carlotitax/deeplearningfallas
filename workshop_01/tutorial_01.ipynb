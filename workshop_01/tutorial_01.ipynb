{
  "nbformat": 4,
  "nbformat_minor": 0,
  "metadata": {
    "colab": {
      "name": "tutorial_01",
      "provenance": [],
      "collapsed_sections": [],
      "toc_visible": true
    },
    "kernelspec": {
      "name": "python3",
      "display_name": "Python 3"
    }
  },
  "cells": [
    {
      "cell_type": "markdown",
      "metadata": {
        "id": "o_MyvkTQEYW1",
        "colab_type": "text"
      },
      "source": [
        "# Data Manipulation\n",
        "Enrique López Droguett - Cristián Herrera\n",
        "\n",
        "El objetivo de este notebook consiste en introducir y repasar las principales librerías que serán utilizadas a lo largo del curso.\n",
        "\n",
        "Dado que la manipulación de matrices y bases de datos resulta escencial en lo que respecta a la ciencia de datos, Numpy y Pandas se han posicionado como las librerías fundamentales ante cualquier proyecto de Machine Learning. De este modo es necesario poseer una buena base sobre estas librerías y sus funcionalidades antes de seguir con proyectos de mayor complejidad.\n",
        "\n",
        "## Documentación\n",
        "Las documentaciones respectivas de estas librerías pueden ser encontradas en los siguientes links:\n",
        "- https://numpy.org/doc/stable/\n",
        "- https://pandas.pydata.org/docs/\n",
        "\n"
      ]
    },
    {
      "cell_type": "markdown",
      "metadata": {
        "id": "nRd33E1XKEzl",
        "colab_type": "text"
      },
      "source": [
        "# Numpy\n",
        "\n",
        "<img src=\"https://upload.wikimedia.org/wikipedia/commons/thumb/3/31/NumPy_logo_2020.svg/1024px-NumPy_logo_2020.svg.png\" width=\"400\">\n",
        "\n",
        "\n",
        "Numpy provee de funcionalidades orientadas a la manipulación de arreglos multidimensionales. De este modo su objeto principal corresponde al arreglo multidimensional homogeneo `numpy.ndarray` o `numpy.array`. Los `numpy.array` consisten en tablas o matrices de elementos (del mismo tipo) que pueden ser indexados mediante tuplas de enteros. En numpy, las dimensiones son referenciadas como `axes`.\n",
        "\n",
        "Comencemos por importar la librería.\n",
        "\n"
      ]
    },
    {
      "cell_type": "code",
      "metadata": {
        "id": "x8tDsO09JycF",
        "colab_type": "code",
        "colab": {}
      },
      "source": [
        "import numpy as np"
      ],
      "execution_count": null,
      "outputs": []
    },
    {
      "cell_type": "markdown",
      "metadata": {
        "id": "RXyfpRf4Nyrb",
        "colab_type": "text"
      },
      "source": [
        "Existen varios métodos que permiten crear o inicializar `np.arrays`, cada uno con su respectiva funcionalidad."
      ]
    },
    {
      "cell_type": "code",
      "metadata": {
        "id": "PMXt4LD5EEzU",
        "colab_type": "code",
        "colab": {
          "base_uri": "https://localhost:8080/",
          "height": 538
        },
        "outputId": "62777ef1-eb6b-40a9-fba8-a3e2a414ab20"
      },
      "source": [
        "# np.array: Crea un array a partir de la lista entregada.\n",
        "# note que se interpreta que una lista de listas corresponde a un 2D-array.\n",
        "# analogamente, un lista de listas de listas corresponde a un 3D-array.\n",
        "a = np.array( [ [1.5, 9.1, 2.9], [5.0, 6.3, 3.2], [0.0, 2.8, 7.3] ])\n",
        "print('np.array:\\n', a)\n",
        "\n",
        "# np.zeros: Crea un array de ceros a partir de las dimensiones entregadas.\n",
        "# las dimensiones se entregan en tuplas (m, n) -> (rows, cols)\n",
        "a = np.zeros( (3, 5) )\n",
        "print('\\nnp.zeros:\\n', a)\n",
        "\n",
        "# np.ones: Crea un array de unos a partir de las dimensiones entregadas.\n",
        "a = np.ones( (3, 4) )\n",
        "print('\\nnp.ones:\\n', a)\n",
        "\n",
        "# np.linspace: Crea un array de num valores equiespaciados dentro del rango.\n",
        "a = np.linspace( 0.0, 10.0, num=5 )\n",
        "print('\\nnp.linspace:\\n', a)\n",
        "\n",
        "# np.random.uniform: Crea un array de valores random a partir de una\n",
        "# distribución uniforme.\n",
        "a = np.random.uniform( 0.0, 10.0, (4, 4) )\n",
        "print('\\nnp.random.uniform:\\n', a)\n",
        "\n",
        "# np.random.normal: Crea un array de valores random a partir de una\n",
        "# distribución normal.\n",
        "a = np.random.normal( 0.0, 1.0, (5, 3) )\n",
        "print('\\nnp.random.normal:\\n', a)\n"
      ],
      "execution_count": null,
      "outputs": [
        {
          "output_type": "stream",
          "text": [
            "np.array:\n",
            " [[1.5 9.1 2.9]\n",
            " [5.  6.3 3.2]\n",
            " [0.  2.8 7.3]]\n",
            "\n",
            "np.zeros:\n",
            " [[0. 0. 0. 0. 0.]\n",
            " [0. 0. 0. 0. 0.]\n",
            " [0. 0. 0. 0. 0.]]\n",
            "\n",
            "np.ones:\n",
            " [[1. 1. 1. 1.]\n",
            " [1. 1. 1. 1.]\n",
            " [1. 1. 1. 1.]]\n",
            "\n",
            "np.linspace:\n",
            " [ 0.   2.5  5.   7.5 10. ]\n",
            "\n",
            "np.random.uniform:\n",
            " [[3.23573468 4.76957754 5.67018872 7.76188426]\n",
            " [5.16223444 8.32111908 5.66705088 2.5232637 ]\n",
            " [8.93247306 8.57087872 7.94031945 7.8486596 ]\n",
            " [9.79856676 5.61320038 1.28053228 1.56349772]]\n",
            "\n",
            "np.random.normal:\n",
            " [[-0.29202196  1.16278938 -0.31936935]\n",
            " [-0.89836967  1.6432111   0.60512721]\n",
            " [ 0.44551727  1.02137228 -0.67206473]\n",
            " [-0.34212516  0.04920108  1.83973327]\n",
            " [-0.25502654  0.39920576  1.42905663]]\n"
          ],
          "name": "stdout"
        }
      ]
    },
    {
      "cell_type": "markdown",
      "metadata": {
        "id": "VYo7jBvtTTq2",
        "colab_type": "text"
      },
      "source": [
        "## Atributos\n",
        "Como toda clase o objeto, los `np.array` contienen varios atributos que entregan información sobre el objeto, como sus dimensiones y el tipo de elementos que contiene."
      ]
    },
    {
      "cell_type": "code",
      "metadata": {
        "id": "7bzE_CobT5fm",
        "colab_type": "code",
        "colab": {
          "base_uri": "https://localhost:8080/",
          "height": 86
        },
        "outputId": "4e06e49c-54f2-4bf2-8529-54a47a8a67d1"
      },
      "source": [
        "a = np.random.normal( 0.0, 2.0, (5, 3, 7) )\n",
        "\n",
        "# :size: entrega la cantidad de elementos contenidos en el array.\n",
        "print('size:', a.size)\n",
        "\n",
        "# :ndim: entrega la cantidad de dimensiones del array.\n",
        "print('ndim:', a.ndim)\n",
        "\n",
        "# :shape: entrega el tamaño de cada una de las dimensiones del array.\n",
        "print('shape:', a.shape)\n",
        "\n",
        "# :dtype: entrega el tipo/type de los elementos contenidos.\n",
        "print('dtype:', a.dtype)\n"
      ],
      "execution_count": null,
      "outputs": [
        {
          "output_type": "stream",
          "text": [
            "size: 105\n",
            "ndim: 3\n",
            "shape: (5, 3, 7)\n",
            "dtype: float64\n"
          ],
          "name": "stdout"
        }
      ]
    },
    {
      "cell_type": "markdown",
      "metadata": {
        "id": "bdbRbmj0VnG9",
        "colab_type": "text"
      },
      "source": [
        "## Indexing\n",
        "Similar a como los elementos son indexados en objetos `list`, los elementos de un `np.array` pueden ser indexados especificando cada una de sus dimensiones entre corchetes."
      ]
    },
    {
      "cell_type": "code",
      "metadata": {
        "id": "WaQuZ3pqVmdD",
        "colab_type": "code",
        "colab": {
          "base_uri": "https://localhost:8080/",
          "height": 278
        },
        "outputId": "183e45a8-0b0a-4c72-a5b4-cf5c89a829f2"
      },
      "source": [
        "a = np.random.uniform( 0.0, 100.0, (4, 6, 5) )\n",
        "\n",
        "# elemento en la celda (2, 5, 1)\n",
        "b = a[2, 5, 1]\n",
        "print('a[2, 5, 1]: ', b)\n",
        "\n",
        "# se puede acceder al último elemento en una dimensión mediante -1\n",
        "b = a[2, -1, -1]\n",
        "print('\\na[2, 5, 4]: ', b)\n",
        "\n",
        "# también es posible acceder a múltiples elementos en una única operación,\n",
        "# como también seleccionar sub-array dentro de un array.\n",
        "\n",
        "# start:stop accede a los elementos dentro del intervalo [start, stop)\n",
        "b = a[0:3, 5, 4]\n",
        "print('\\na[0:3, 5, 4]: ', b)\n",
        "\n",
        "# start: accede a los elementos desde start hasta el último elemento.\n",
        "b = a[2:, 5, 4]\n",
        "print('\\na[2:, 5, 4]: ', b)\n",
        "\n",
        "# :stop accede a los elementos desde el primer elemento hasta stop - 1.\n",
        "b = a[:3, 5, 4]\n",
        "print('\\na[:3, 5, 4]: ', b)\n",
        "\n",
        "# : accede a todos los elementos en esa dimensión.\n",
        "b = a[:, :, 0]\n",
        "print('\\na[:, :, 0]:\\n', b)\n"
      ],
      "execution_count": null,
      "outputs": [
        {
          "output_type": "stream",
          "text": [
            "a[2, 5, 1]:  73.99702221931797\n",
            "\n",
            "a[2, 5, 4]:  73.99397759598483\n",
            "\n",
            "a[0:3, 5, 4]:  [49.9638716  60.21083013 73.9939776 ]\n",
            "\n",
            "a[2:, 5, 4]:  [73.9939776  95.06289087]\n",
            "\n",
            "a[:3, 5, 4]:  [49.9638716  60.21083013 73.9939776 ]\n",
            "\n",
            "a[:, :, 0]:\n",
            " [[ 4.87568527 70.48714168 37.07204233 59.65543191 82.16969247 30.82659748]\n",
            " [30.82598158 87.6449747  35.87899524 80.64358143 54.59047228 77.82194324]\n",
            " [20.45329096 53.14920206 30.97284281 10.11996891 46.90276126 13.67818616]\n",
            " [28.74120901 73.74964531 76.44028647 33.24755324 72.67226073 41.86898208]]\n"
          ],
          "name": "stdout"
        }
      ]
    },
    {
      "cell_type": "markdown",
      "metadata": {
        "id": "Ck-zwdGKd-Ht",
        "colab_type": "text"
      },
      "source": [
        "## Concatenar\n",
        "Concatenar consiste en combinar dos o más `np.array`, lo cual puede ser logrado mediante `np.concatenate`, `np.vstack`, `np.hstack` o `np.dstack`, dependiendo de la dimensión en la que se desee trabajar."
      ]
    },
    {
      "cell_type": "code",
      "metadata": {
        "id": "PAbVX5jcfL_H",
        "colab_type": "code",
        "colab": {
          "base_uri": "https://localhost:8080/",
          "height": 503
        },
        "outputId": "fb3b29cb-7d95-4004-b80f-43c0abf8c28a"
      },
      "source": [
        "a = np.random.uniform( 0.0, 100.0, (5, 3) )\n",
        "b = np.ones( (5, 3) )\n",
        "\n",
        "# np.concatenate concatena una secuencia de arrays en el axis especificado.\n",
        "c = np.concatenate( (a, b), axis=1 )\n",
        "print('np.concatenate (axis=1):\\n', c)\n",
        "\n",
        "# np.vstack es equivalente a np.concatenate en axis=0 (row wise)\n",
        "c = np.vstack( (a, b) )\n",
        "print('\\nnp.vstack:\\n', c)\n",
        "\n",
        "# np.hstack es equivalente a np.concatenate en axis=1 (col wise)\n",
        "c = np.hstack( (a, b) )\n",
        "print('\\nnp.hstack:\\n', c)\n",
        "\n",
        "# np.dstack es equivalente a np.concatenate en axis=2 (3D wise)\n",
        "c = np.dstack( (a, b) )\n",
        "print('\\nnp.dstack dimensions:\\n', c.shape)\n",
        "\n"
      ],
      "execution_count": null,
      "outputs": [
        {
          "output_type": "stream",
          "text": [
            "np.concatenate (axis=1):\n",
            " [[75.96271223 74.50270672 24.93841131  1.          1.          1.        ]\n",
            " [99.14335717 20.63760305 56.19939214  1.          1.          1.        ]\n",
            " [69.60230806 73.13624261 16.62758336  1.          1.          1.        ]\n",
            " [87.71464775 84.62625074  9.55495326  1.          1.          1.        ]\n",
            " [31.13086486 79.82355023 58.80384514  1.          1.          1.        ]]\n",
            "\n",
            "np.vstack:\n",
            " [[75.96271223 74.50270672 24.93841131]\n",
            " [99.14335717 20.63760305 56.19939214]\n",
            " [69.60230806 73.13624261 16.62758336]\n",
            " [87.71464775 84.62625074  9.55495326]\n",
            " [31.13086486 79.82355023 58.80384514]\n",
            " [ 1.          1.          1.        ]\n",
            " [ 1.          1.          1.        ]\n",
            " [ 1.          1.          1.        ]\n",
            " [ 1.          1.          1.        ]\n",
            " [ 1.          1.          1.        ]]\n",
            "\n",
            "np.hstack:\n",
            " [[75.96271223 74.50270672 24.93841131  1.          1.          1.        ]\n",
            " [99.14335717 20.63760305 56.19939214  1.          1.          1.        ]\n",
            " [69.60230806 73.13624261 16.62758336  1.          1.          1.        ]\n",
            " [87.71464775 84.62625074  9.55495326  1.          1.          1.        ]\n",
            " [31.13086486 79.82355023 58.80384514  1.          1.          1.        ]]\n",
            "\n",
            "np.dstack dimensions:\n",
            " (5, 3, 2)\n"
          ],
          "name": "stdout"
        }
      ]
    },
    {
      "cell_type": "markdown",
      "metadata": {
        "id": "ND3PQNg9jwxa",
        "colab_type": "text"
      },
      "source": [
        "## Reshape\n",
        "Una de las funcionalidades más útiles de numpy es su capacidad de transformar y modificar el `shape` de un `np.array`. La forma más común de realizar esta operación es mediante `np.reshape`."
      ]
    },
    {
      "cell_type": "code",
      "metadata": {
        "id": "UpAKm9ksrCge",
        "colab_type": "code",
        "colab": {
          "base_uri": "https://localhost:8080/",
          "height": 347
        },
        "outputId": "b1a9d30c-fc0e-428b-9b7f-125f0183a7c3"
      },
      "source": [
        "a = np.arange(1, 25)\n",
        "print('a:\\n', a)\n",
        "\n",
        "# np.reshape recibe el array a transformar y una tupla de la nueva shape.\n",
        "# la nueva forma debe ser compatible con la cantidad de elementos original.\n",
        "b = np.reshape(a, (3, 8))\n",
        "print('\\nnp.reshape(a, (3, 3)):\\n', b)\n",
        "\n",
        "# en caso de querer inferir alguna de las nuevas dimensiones, se debe entregar\n",
        "# un -1 en la dimensión correspondiente\n",
        "b = np.reshape(a, (-1, 3, 2))\n",
        "print('\\nnp.reshape(a, (-1, 3, 2))[:, :, 0]:\\n', b[:, :, 0])\n",
        "\n",
        "# note que en el orden del reshape anterior, los elementos se van insertando\n",
        "# siguiendo la última dimensión, y a medida que esta se completa, se sigue con\n",
        "# la dimensión anterior.\n",
        "# esto puede ser controlado mediante el parámetro 'order'.\n",
        "b = np.reshape(a, (-1, 3, 2), order='F')\n",
        "print(\"\\nnp.reshape(a, (-1, 3, 2), order='F')[:, :, 0]:\\n\", b[:, :, 0])\n"
      ],
      "execution_count": null,
      "outputs": [
        {
          "output_type": "stream",
          "text": [
            "a:\n",
            " [ 1  2  3  4  5  6  7  8  9 10 11 12 13 14 15 16 17 18 19 20 21 22 23 24]\n",
            "\n",
            "np.reshape(a, (3, 3)):\n",
            " [[ 1  2  3  4  5  6  7  8]\n",
            " [ 9 10 11 12 13 14 15 16]\n",
            " [17 18 19 20 21 22 23 24]]\n",
            "\n",
            "np.reshape(a, (-1, 3, 2))[:, :, 0]:\n",
            " [[ 1  3  5]\n",
            " [ 7  9 11]\n",
            " [13 15 17]\n",
            " [19 21 23]]\n",
            "\n",
            "np.reshape(a, (-1, 3, 2), order='F')[:, :, 0]:\n",
            " [[ 1  5  9]\n",
            " [ 2  6 10]\n",
            " [ 3  7 11]\n",
            " [ 4  8 12]]\n"
          ],
          "name": "stdout"
        }
      ]
    },
    {
      "cell_type": "markdown",
      "metadata": {
        "id": "CnZo9lljv7Sm",
        "colab_type": "text"
      },
      "source": [
        "En caso de requerir transformar un array a un array 1D, esto puede ser logrado mediante `np.ravel` o `flatten`."
      ]
    },
    {
      "cell_type": "code",
      "metadata": {
        "id": "iNas_XEVxeFK",
        "colab_type": "code",
        "colab": {
          "base_uri": "https://localhost:8080/",
          "height": 243
        },
        "outputId": "8f0d2c0c-4f8d-45dd-8a5c-f2802463e6ec"
      },
      "source": [
        "a = np.arange(1, 10).reshape( (-1, 3) )\n",
        "print('a:\\n', a)\n",
        "\n",
        "b = a.flatten()\n",
        "print('\\na.flatten():\\n', b)\n",
        "\n",
        "b = a.ravel()\n",
        "print('\\na.ravel():\\n', b)\n",
        "\n",
        "# note que los resultados anteriores son distintos a a.reshape( (1, 9) ), pues\n",
        "# pues el shape de este último es (1, 9), mientras que a.flatten() es (9, ).\n",
        "b = a.reshape( (1, 9) )\n",
        "print('\\na.reshape( (1, 9) ):\\n', b)\n"
      ],
      "execution_count": null,
      "outputs": [
        {
          "output_type": "stream",
          "text": [
            "a:\n",
            " [[1 2 3]\n",
            " [4 5 6]\n",
            " [7 8 9]]\n",
            "\n",
            "a.flatten():\n",
            " [1 2 3 4 5 6 7 8 9]\n",
            "\n",
            "a.ravel():\n",
            " [1 2 3 4 5 6 7 8 9]\n",
            "\n",
            "a.reshape( (1, 9) ):\n",
            " [[1 2 3 4 5 6 7 8 9]]\n"
          ],
          "name": "stdout"
        }
      ]
    },
    {
      "cell_type": "markdown",
      "metadata": {
        "id": "RuNuT3Fu0lcI",
        "colab_type": "text"
      },
      "source": [
        "# Pandas\n",
        "\n",
        "<img src=\"https://upload.wikimedia.org/wikipedia/commons/thumb/e/ed/Pandas_logo.svg/1200px-Pandas_logo.svg.png\" width=\"400\">\n",
        "\n",
        "Pandas es una librería construida sobre Numpy y contiene funcionalidades orientadas a la manipulación de su objeto principal el `DataFrame`. Los `pandas.DataFrame` consisten en arreglos multidimensionales que, a diferencia del `np.ndarray`, poseen etiquetas `labels` para filas y columnas, y son capaces de contener elementos heterogéneos. Adicionalmente, el framework bajo el que fue implementado resulta sumamente similar a otros frameworks especializados en la manipulación de bases de datos como Excel.\n",
        "\n",
        "Como se vio anteriormente, la estructura de datos de `np.ndarray`/`np.array` provee de las funcionalidades y operaciones escenciales para la manipulación de los siempre bien estructurados datos numéricos. No obstante, esta estructura se queda corta rápidamente a la hora de trabajar con bases de datos que requieren mayor flexibilidad: datos heterogéneos, series de datos incompletas, grupos de datos, etc. Básicamente, a la hora de trabajar en el mundo real.\n",
        "\n",
        "Es así como Pandas, junto a sus estructutas fundamentales `pandas.Series` y `pandas.DataFrame`, habilita toda esta serie de funcionalidades necesarias ante cualquier proyecto de Data Science."
      ]
    },
    {
      "cell_type": "code",
      "metadata": {
        "id": "qLacyXY58Tvq",
        "colab_type": "code",
        "colab": {}
      },
      "source": [
        "import pandas as pd"
      ],
      "execution_count": null,
      "outputs": []
    },
    {
      "cell_type": "markdown",
      "metadata": {
        "id": "dozxufpb8W4y",
        "colab_type": "text"
      },
      "source": [
        "En su abstracción más elemental se podría decir que los `pandas.Series` y `pandas.DataFrame` consisten simplemente en `numpy.array` en donde tanto las filas como las columnas pueden ser indexadas mediante etiquetas particulares, en vez de índices numéricos."
      ]
    },
    {
      "cell_type": "markdown",
      "metadata": {
        "id": "G2t649sP9ynA",
        "colab_type": "text"
      },
      "source": [
        "## Series\n",
        "\n",
        "El objeto `pandas.Series` consiste básicamente en un arreglo unidimensional (1D) de datos indexables. De este modo, contiene tando la secuencia de valores de los datos `values` y la secuencia de índices correspondiente `index`."
      ]
    },
    {
      "cell_type": "code",
      "metadata": {
        "id": "jG2sPE3E9taP",
        "colab_type": "code",
        "colab": {
          "base_uri": "https://localhost:8080/",
          "height": 243
        },
        "outputId": "2b81bdd7-f5f5-487a-cab1-b31ee31a7aa0"
      },
      "source": [
        "# del mismo modo que np.array, este objeto puede ser inicilizado a partir de\n",
        "# una secuencia de datos (array-like).\n",
        "a = pd.Series( [1.5, 9.1, 2.9, 0.2, 7.3] )\n",
        "print('a:\\n',a)\n",
        "\n",
        "# :values: entrega los datos contenidos en el pd.Series.\n",
        "print('\\na.values: ', a.values)\n",
        "\n",
        "# :index: entrega los index de los datos en el pd.Series.\n",
        "print('\\na.index: ', a.index)\n",
        "\n",
        "# :dtype: entrega el type de los datos contenidos.\n",
        "print('\\na.dtype: ', a.dtype)\n"
      ],
      "execution_count": null,
      "outputs": [
        {
          "output_type": "stream",
          "text": [
            "a:\n",
            " 0    1.5\n",
            "1    9.1\n",
            "2    2.9\n",
            "3    0.2\n",
            "4    7.3\n",
            "dtype: float64\n",
            "\n",
            "a.values:  [1.5 9.1 2.9 0.2 7.3]\n",
            "\n",
            "a.index:  RangeIndex(start=0, stop=5, step=1)\n",
            "\n",
            "a.dtype:  float64\n"
          ],
          "name": "stdout"
        }
      ]
    },
    {
      "cell_type": "markdown",
      "metadata": {
        "id": "7ZQj_IIVBDCJ",
        "colab_type": "text"
      },
      "source": [
        "Del mismo modo que en los `np.array`, los datos contenidos en un `pd.Series` se pueden acceder a partir de su `index`. No obstante, esta estructura de datos permite algo más de flexibilidad. La diferencia radica en que mientras los `np.array` poseen `index` implícitamente definidos, en los `pd.Series` estos pueden ser explícitamente definidos."
      ]
    },
    {
      "cell_type": "code",
      "metadata": {
        "id": "cxDD-_LVCXoy",
        "colab_type": "code",
        "colab": {
          "base_uri": "https://localhost:8080/",
          "height": 243
        },
        "outputId": "93268196-b0bd-48ad-95e2-bdc12029633f"
      },
      "source": [
        "a = pd.Series( [1.5, 9.1, 2.9, 0.2, 7.3] )\n",
        "print('a[2]: ', a[2])\n",
        "\n",
        "# el index puede ser definido mediante el parámetro index.\n",
        "b = pd.Series( [1.5, 9.1, 2.9, 0.2, 7.3],\n",
        "              index = ['a', 'b', 'c', 'd', 'e'])\n",
        "print('\\nb:\\n',b)\n",
        "print(\"\\nb['c']: \", b['c'])\n",
        "\n",
        "# en ocasiones conviene trabajar con index relacionados a secuencias\n",
        "# temporales o timestamps.\n",
        "c = pd.Series( [1.5, 9.1, 2.9, 0.2, 7.3],\n",
        "              index = ['07-09-2020', '08-09-2020', '09-09-2020',\n",
        "                       '10-09-2020', '11-09-2020'] )\n",
        "print(\"\\nc['11-09-2020']: \", c['11-09-2020'])\n"
      ],
      "execution_count": null,
      "outputs": [
        {
          "output_type": "stream",
          "text": [
            "a[2]:  2.9\n",
            "\n",
            "b:\n",
            " a    1.5\n",
            "b    9.1\n",
            "c    2.9\n",
            "d    0.2\n",
            "e    7.3\n",
            "dtype: float64\n",
            "\n",
            "b['c']:  2.9\n",
            "\n",
            "c['11-09-2020']:  7.3\n"
          ],
          "name": "stdout"
        }
      ]
    },
    {
      "cell_type": "markdown",
      "metadata": {
        "id": "pvPICN95HE4J",
        "colab_type": "text"
      },
      "source": [
        "## DataFrame\n",
        "Si el `pandas.Series` puede ser considerado como un arreglo unidimensional con datos indexables, entonces el `pandas.DataFrame` es su análogo bidimensional, donde las etiquetas tanto de las filas `index` como de las columnas `columns` pueden ser explícitamente definidas. De esta forma, los `pd.DataFrame` pueden ser vistos como una serie de `pd.Series` alineados, en el sentido de que comparten el mismo `index`."
      ]
    },
    {
      "cell_type": "code",
      "metadata": {
        "id": "WsZ4-rFdJVsW",
        "colab_type": "code",
        "colab": {
          "base_uri": "https://localhost:8080/",
          "height": 364
        },
        "outputId": "5a9344b9-4ce5-427e-fa95-5b7687e1fcc4"
      },
      "source": [
        "# los pd.Series también pueden ser inicializados a partir de un diccionario\n",
        "population = {'California': 38332521,\n",
        "              'Texas': 26448193,\n",
        "              'New York': 19651127,\n",
        "              'Florida': 19552860,\n",
        "              'Illinois': 12882135}\n",
        "population = pd.Series(population)\n",
        "\n",
        "area = {'California': 423967,\n",
        "        'Texas': 695662,\n",
        "        'New York': 141297,\n",
        "        'Florida': 170312,\n",
        "        'Illinois': 149995}\n",
        "area = pd.Series(area)\n",
        "\n",
        "db = pd.DataFrame({'population':population,\n",
        "                   'area':area})\n",
        "print('db:\\n', db)\n",
        "\n",
        "# :values: entrega todos los datos contenidos como un np.array.\n",
        "print('\\ndb.values:\\n', db.values)\n",
        "\n",
        "# :index: entrega el index del DataFrame.\n",
        "print('\\ndb.index:\\n', db.index)\n",
        "\n",
        "# :columns: entrega la lista con el nombre de las columnas del DataFrame.\n",
        "print('\\ndb.columns:\\n', db.columns)\n",
        "                  "
      ],
      "execution_count": null,
      "outputs": [
        {
          "output_type": "stream",
          "text": [
            "db:\n",
            "             population    area\n",
            "California    38332521  423967\n",
            "Texas         26448193  695662\n",
            "New York      19651127  141297\n",
            "Florida       19552860  170312\n",
            "Illinois      12882135  149995\n",
            "\n",
            "db.values:\n",
            " [[38332521   423967]\n",
            " [26448193   695662]\n",
            " [19651127   141297]\n",
            " [19552860   170312]\n",
            " [12882135   149995]]\n",
            "\n",
            "db.index:\n",
            " Index(['California', 'Texas', 'New York', 'Florida', 'Illinois'], dtype='object')\n",
            "\n",
            "db.columns:\n",
            " Index(['population', 'area'], dtype='object')\n"
          ],
          "name": "stdout"
        }
      ]
    },
    {
      "cell_type": "markdown",
      "metadata": {
        "id": "ciD989KzbRNo",
        "colab_type": "text"
      },
      "source": [
        "Por supuesto, un `pd.DataFrame` puede ser inicializado o creado de múltiples maneras, y no necesariamente a partir de `pd.Series` previos."
      ]
    },
    {
      "cell_type": "code",
      "metadata": {
        "id": "MeipS7Mqbt-l",
        "colab_type": "code",
        "colab": {
          "base_uri": "https://localhost:8080/",
          "height": 243
        },
        "outputId": "6f284265-f1ab-4551-b36c-8c1fe54d0eb7"
      },
      "source": [
        "# crear pd.DataFrames de zeros\n",
        "a = pd.DataFrame(0.0,\n",
        "                 index = ['Enero', 'Febrero', 'Marzo', 'Abril'],\n",
        "                 columns = ['2018', '2019', '2020'])\n",
        "print('a:\\n', a)\n",
        "\n",
        "# crear pd.DataFrames a partir de np.ndarray\n",
        "b = np.random.uniform(0, 255, (4, 3)).astype('int')\n",
        "a = pd.DataFrame(b,\n",
        "                 index = ['Enero', 'Febrero', 'Marzo', 'Abril'],\n",
        "                 columns = ['2018', '2019', '2020'])\n",
        "print('\\na:\\n', a)"
      ],
      "execution_count": null,
      "outputs": [
        {
          "output_type": "stream",
          "text": [
            "a:\n",
            "          2018  2019  2020\n",
            "Enero     0.0   0.0   0.0\n",
            "Febrero   0.0   0.0   0.0\n",
            "Marzo     0.0   0.0   0.0\n",
            "Abril     0.0   0.0   0.0\n",
            "\n",
            "a:\n",
            "          2018  2019  2020\n",
            "Enero     143   133    95\n",
            "Febrero    41    41    53\n",
            "Marzo      36    86   104\n",
            "Abril      25   208   242\n"
          ],
          "name": "stdout"
        }
      ]
    },
    {
      "cell_type": "markdown",
      "metadata": {
        "id": "Z1G6kx00dwRZ",
        "colab_type": "text"
      },
      "source": [
        "En ocasiones será necesario trabajar con datos contenidos en hojas de cálculo como son los archivos `.csv` y `.xls` comúnmente usados en Excel. Por suerte, Pandas contiene métodos que permiten importar este tipo de archivos directamente en la estructura `pd.DataFrame` como `pd.read_csv` o `pd.read_excel`.\n",
        "\n",
        "Para probar alguno de estos métodos carguemos el repositorio del curso."
      ]
    },
    {
      "cell_type": "code",
      "metadata": {
        "id": "nJHCHz54fBRO",
        "colab_type": "code",
        "colab": {
          "base_uri": "https://localhost:8080/",
          "height": 139
        },
        "outputId": "0c19808c-426c-40d6-b929-93834e2fc01d"
      },
      "source": [
        "!git clone https://github.com/cherrerab/deeplearningfallas.git\n",
        "%cd /content/deeplearningfallas"
      ],
      "execution_count": null,
      "outputs": [
        {
          "output_type": "stream",
          "text": [
            "Cloning into 'deeplearningfallas'...\n",
            "remote: Enumerating objects: 72, done.\u001b[K\n",
            "remote: Counting objects:   1% (1/72)\u001b[K\rremote: Counting objects:   2% (2/72)\u001b[K\rremote: Counting objects:   4% (3/72)\u001b[K\rremote: Counting objects:   5% (4/72)\u001b[K\rremote: Counting objects:   6% (5/72)\u001b[K\rremote: Counting objects:   8% (6/72)\u001b[K\rremote: Counting objects:   9% (7/72)\u001b[K\rremote: Counting objects:  11% (8/72)\u001b[K\rremote: Counting objects:  12% (9/72)\u001b[K\rremote: Counting objects:  13% (10/72)\u001b[K\rremote: Counting objects:  15% (11/72)\u001b[K\rremote: Counting objects:  16% (12/72)\u001b[K\rremote: Counting objects:  18% (13/72)\u001b[K\rremote: Counting objects:  19% (14/72)\u001b[K\rremote: Counting objects:  20% (15/72)\u001b[K\rremote: Counting objects:  22% (16/72)\u001b[K\rremote: Counting objects:  23% (17/72)\u001b[K\rremote: Counting objects:  25% (18/72)\u001b[K\rremote: Counting objects:  26% (19/72)\u001b[K\rremote: Counting objects:  27% (20/72)\u001b[K\rremote: Counting objects:  29% (21/72)\u001b[K\rremote: Counting objects:  30% (22/72)\u001b[K\rremote: Counting objects:  31% (23/72)\u001b[K\rremote: Counting objects:  33% (24/72)\u001b[K\rremote: Counting objects:  34% (25/72)\u001b[K\rremote: Counting objects:  36% (26/72)\u001b[K\rremote: Counting objects:  37% (27/72)\u001b[K\rremote: Counting objects:  38% (28/72)\u001b[K\rremote: Counting objects:  40% (29/72)\u001b[K\rremote: Counting objects:  41% (30/72)\u001b[K\rremote: Counting objects:  43% (31/72)\u001b[K\rremote: Counting objects:  44% (32/72)\u001b[K\rremote: Counting objects:  45% (33/72)\u001b[K\rremote: Counting objects:  47% (34/72)\u001b[K\rremote: Counting objects:  48% (35/72)\u001b[K\rremote: Counting objects:  50% (36/72)\u001b[K\rremote: Counting objects:  51% (37/72)\u001b[K\rremote: Counting objects:  52% (38/72)\u001b[K\rremote: Counting objects:  54% (39/72)\u001b[K\rremote: Counting objects:  55% (40/72)\u001b[K\rremote: Counting objects:  56% (41/72)\u001b[K\rremote: Counting objects:  58% (42/72)\u001b[K\rremote: Counting objects:  59% (43/72)\u001b[K\rremote: Counting objects:  61% (44/72)\u001b[K\rremote: Counting objects:  62% (45/72)\u001b[K\rremote: Counting objects:  63% (46/72)\u001b[K\rremote: Counting objects:  65% (47/72)\u001b[K\rremote: Counting objects:  66% (48/72)\u001b[K\rremote: Counting objects:  68% (49/72)\u001b[K\rremote: Counting objects:  69% (50/72)\u001b[K\rremote: Counting objects:  70% (51/72)\u001b[K\rremote: Counting objects:  72% (52/72)\u001b[K\rremote: Counting objects:  73% (53/72)\u001b[K\rremote: Counting objects:  75% (54/72)\u001b[K\rremote: Counting objects:  76% (55/72)\u001b[K\rremote: Counting objects:  77% (56/72)\u001b[K\rremote: Counting objects:  79% (57/72)\u001b[K\rremote: Counting objects:  80% (58/72)\u001b[K\rremote: Counting objects:  81% (59/72)\u001b[K\rremote: Counting objects:  83% (60/72)\u001b[K\rremote: Counting objects:  84% (61/72)\u001b[K\rremote: Counting objects:  86% (62/72)\u001b[K\rremote: Counting objects:  87% (63/72)\u001b[K\rremote: Counting objects:  88% (64/72)\u001b[K\rremote: Counting objects:  90% (65/72)\u001b[K\rremote: Counting objects:  91% (66/72)\u001b[K\rremote: Counting objects:  93% (67/72)\u001b[K\rremote: Counting objects:  94% (68/72)\u001b[K\rremote: Counting objects:  95% (69/72)\u001b[K\rremote: Counting objects:  97% (70/72)\u001b[K\rremote: Counting objects:  98% (71/72)\u001b[K\rremote: Counting objects: 100% (72/72)\u001b[K\rremote: Counting objects: 100% (72/72), done.\u001b[K\n",
            "remote: Compressing objects: 100% (65/65), done.\u001b[K\n",
            "remote: Total 72 (delta 19), reused 0 (delta 0), pack-reused 0\u001b[K\n",
            "Unpacking objects: 100% (72/72), done.\n",
            "/content/deeplearningfallas\n"
          ],
          "name": "stdout"
        }
      ]
    },
    {
      "cell_type": "markdown",
      "metadata": {
        "id": "u03-dDiqjl4G",
        "colab_type": "text"
      },
      "source": [
        "Dentro de la carpeta de este workshop `\\content\\deeplearningfallas\\workshop_01` se encuentra el archivo `cities.csv`"
      ]
    },
    {
      "cell_type": "code",
      "metadata": {
        "id": "g8rDzZn3j_VD",
        "colab_type": "code",
        "colab": {
          "base_uri": "https://localhost:8080/",
          "height": 364
        },
        "outputId": "653266e2-cadb-480a-8b5d-4bbf68c3c0d6"
      },
      "source": [
        "# importar archivo\n",
        "file_path = 'workshop_01//cities.csv'\n",
        "db = pd.read_csv(file_path)\n",
        "\n",
        "# imprimir información de las primeras 5 filas.\n",
        "a = db.head()\n",
        "print('db_cities.head():\\n', a)\n",
        "\n",
        "# obtener columnas del dataset.\n",
        "cols = db.columns\n",
        "print('\\ncolumns:\\n', cols)\n",
        "\n",
        "# extraer un pd.Series a partir del pd.DataFrame\n",
        "states = db['State']\n",
        "print(\"\\ndb['State'].head():\\n\", states.head())"
      ],
      "execution_count": null,
      "outputs": [
        {
          "output_type": "stream",
          "text": [
            "db_cities.head():\n",
            "    LatD  LatM  LatS NS  LonD  LonM  LonS EW             City State\n",
            "0    41     5    59  N    80    39     0  W       Youngstown    OH\n",
            "1    42    52    48  N    97    23    23  W          Yankton    SD\n",
            "2    46    35    59  N   120    30    36  W           Yakima    WA\n",
            "3    42    16    12  N    71    48     0  W        Worcester    MA\n",
            "4    43    37    48  N    89    46    11  W  Wisconsin Dells    WI\n",
            "\n",
            "columns:\n",
            " Index(['LatD', 'LatM', 'LatS', 'NS', 'LonD', 'LonM', 'LonS', 'EW', 'City',\n",
            "       'State'],\n",
            "      dtype='object')\n",
            "\n",
            "db['State'].head():\n",
            " 0    OH\n",
            "1    SD\n",
            "2    WA\n",
            "3    MA\n",
            "4    WI\n",
            "Name: State, dtype: object\n"
          ],
          "name": "stdout"
        }
      ]
    },
    {
      "cell_type": "markdown",
      "metadata": {
        "id": "RVbt6c0jNQoA",
        "colab_type": "text"
      },
      "source": [
        "Por último, existen varios métodos para acceder o bien, extraer, elementos contenidos dentro de un `pandas.DataFrame`. Los más comunes son `pd.DataFrame.at`, `pd.DataFrame.loc` y `pd.DataFrame.iloc`."
      ]
    },
    {
      "cell_type": "code",
      "metadata": {
        "id": "I-f8Njp2NP-0",
        "colab_type": "code",
        "colab": {
          "base_uri": "https://localhost:8080/",
          "height": 260
        },
        "outputId": "6123ee05-42b0-4629-a03c-f6fd84c0b10a"
      },
      "source": [
        "# pd.DataFrame.at permite acceder a un valor único dentro del DataFrame a partir\n",
        "# de sus etiquetas index y columns correspondientes.\n",
        "a = db.at[2, 'City']\n",
        "print(\"db.at[3, 'City']: \", a)\n",
        "\n",
        "# pd.DataFrame.loc permite acceder a múltiples valores dentro del DataFrame a\n",
        "# partir de sus etiquetas index y columns correspondientes.\n",
        "# i.e este método permite slicing y el uso de listas.\n",
        "a = db.loc[0:3, ['City', 'State'] ]\n",
        "print(\"\\ndb.loc[0:3, ['City', 'State'] ]:\\n\", a)\n",
        "\n",
        "# analogamente pd.DataFrame.iloc permite acceder a múltiples valores dentro del\n",
        "# DataFrame a partir de sus índices enteros tanto en filas como columnas.\n",
        "# del mismo modo, permite slicing y listas.\n",
        "a = db.iloc[[2, 4, 7], 8:10]\n",
        "print(\"\\ndb.iloc[[2, 4, 7], 8:10 ]:\\n\", a)"
      ],
      "execution_count": null,
      "outputs": [
        {
          "output_type": "stream",
          "text": [
            "db.at[3, 'City']:  Yakima\n",
            "\n",
            "db.loc[0:3, ['City', 'State'] ]:\n",
            "          City State\n",
            "0  Youngstown    OH\n",
            "1     Yankton    SD\n",
            "2      Yakima    WA\n",
            "3   Worcester    MA\n",
            "\n",
            "db.iloc[[2, 4, 7], 8:10 ]:\n",
            "               City State\n",
            "2           Yakima    WA\n",
            "4  Wisconsin Dells    WI\n",
            "7       Winchester    VA\n"
          ],
          "name": "stdout"
        }
      ]
    }
  ]
}